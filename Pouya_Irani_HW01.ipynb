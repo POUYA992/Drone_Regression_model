{
 "cells": [
  {
   "cell_type": "code",
   "execution_count": 1,
   "id": "afe614bf",
   "metadata": {},
   "outputs": [],
   "source": [
    "#Pouya Irani homework 1"
   ]
  },
  {
   "cell_type": "code",
   "execution_count": 2,
   "id": "fe722b9b",
   "metadata": {},
   "outputs": [],
   "source": [
    "##Classification algoritms to predict number of collisions"
   ]
  },
  {
   "cell_type": "code",
   "execution_count": 32,
   "id": "f799e4ca",
   "metadata": {},
   "outputs": [
    {
     "data": {
      "text/html": [
       "<div>\n",
       "<style scoped>\n",
       "    .dataframe tbody tr th:only-of-type {\n",
       "        vertical-align: middle;\n",
       "    }\n",
       "\n",
       "    .dataframe tbody tr th {\n",
       "        vertical-align: top;\n",
       "    }\n",
       "\n",
       "    .dataframe thead th {\n",
       "        text-align: right;\n",
       "    }\n",
       "</style>\n",
       "<table border=\"1\" class=\"dataframe\">\n",
       "  <thead>\n",
       "    <tr style=\"text-align: right;\">\n",
       "      <th></th>\n",
       "      <th>UAV_1_track</th>\n",
       "      <th>UAV_1_x</th>\n",
       "      <th>UAV_1_y</th>\n",
       "      <th>UAV_1_vx</th>\n",
       "      <th>UAV_1_vy</th>\n",
       "      <th>UAV_1_target_x</th>\n",
       "      <th>UAV_1_target_y</th>\n",
       "      <th>UAV_2_track</th>\n",
       "      <th>UAV_2_x</th>\n",
       "      <th>UAV_2_y</th>\n",
       "      <th>...</th>\n",
       "      <th>UAV_4_target_x</th>\n",
       "      <th>UAV_4_target_y</th>\n",
       "      <th>UAV_5_track</th>\n",
       "      <th>UAV_5_x</th>\n",
       "      <th>UAV_5_y</th>\n",
       "      <th>UAV_5_vx</th>\n",
       "      <th>UAV_5_vy</th>\n",
       "      <th>UAV_5_target_x</th>\n",
       "      <th>UAV_5_target_y</th>\n",
       "      <th>num_collisions</th>\n",
       "    </tr>\n",
       "  </thead>\n",
       "  <tbody>\n",
       "    <tr>\n",
       "      <th>0</th>\n",
       "      <td>0.027068</td>\n",
       "      <td>-62300.591721</td>\n",
       "      <td>-59305.682068</td>\n",
       "      <td>6.705684</td>\n",
       "      <td>247.671970</td>\n",
       "      <td>-59569.480482</td>\n",
       "      <td>41566.912694</td>\n",
       "      <td>1.474570</td>\n",
       "      <td>-56681.475086</td>\n",
       "      <td>-5314.787648</td>\n",
       "      <td>...</td>\n",
       "      <td>-73393.079252</td>\n",
       "      <td>42576.874951</td>\n",
       "      <td>1.607547</td>\n",
       "      <td>-80967.561432</td>\n",
       "      <td>37684.582412</td>\n",
       "      <td>213.175442</td>\n",
       "      <td>-7.837820</td>\n",
       "      <td>41342.567045</td>\n",
       "      <td>33187.606489</td>\n",
       "      <td>3</td>\n",
       "    </tr>\n",
       "    <tr>\n",
       "      <th>1</th>\n",
       "      <td>4.023101</td>\n",
       "      <td>-17220.612570</td>\n",
       "      <td>47439.586909</td>\n",
       "      <td>-167.653031</td>\n",
       "      <td>-138.169553</td>\n",
       "      <td>-98139.258988</td>\n",
       "      <td>-19248.698541</td>\n",
       "      <td>2.614451</td>\n",
       "      <td>33573.808959</td>\n",
       "      <td>51374.559396</td>\n",
       "      <td>...</td>\n",
       "      <td>54579.884869</td>\n",
       "      <td>-35144.579226</td>\n",
       "      <td>4.315806</td>\n",
       "      <td>13285.311651</td>\n",
       "      <td>-41245.545752</td>\n",
       "      <td>-196.978758</td>\n",
       "      <td>-82.489078</td>\n",
       "      <td>-2806.112817</td>\n",
       "      <td>-47984.174724</td>\n",
       "      <td>0</td>\n",
       "    </tr>\n",
       "    <tr>\n",
       "      <th>2</th>\n",
       "      <td>1.841994</td>\n",
       "      <td>-19900.350438</td>\n",
       "      <td>59030.833595</td>\n",
       "      <td>208.716697</td>\n",
       "      <td>-58.033328</td>\n",
       "      <td>70435.277561</td>\n",
       "      <td>33913.163359</td>\n",
       "      <td>2.492568</td>\n",
       "      <td>-53314.291038</td>\n",
       "      <td>-15227.414024</td>\n",
       "      <td>...</td>\n",
       "      <td>82065.359024</td>\n",
       "      <td>-23468.668544</td>\n",
       "      <td>0.954796</td>\n",
       "      <td>21679.563309</td>\n",
       "      <td>-34471.154448</td>\n",
       "      <td>208.580726</td>\n",
       "      <td>147.651921</td>\n",
       "      <td>78980.509691</td>\n",
       "      <td>6091.533217</td>\n",
       "      <td>0</td>\n",
       "    </tr>\n",
       "    <tr>\n",
       "      <th>3</th>\n",
       "      <td>3.621532</td>\n",
       "      <td>-48565.126583</td>\n",
       "      <td>-11986.418570</td>\n",
       "      <td>-113.516305</td>\n",
       "      <td>-218.076997</td>\n",
       "      <td>-60503.694386</td>\n",
       "      <td>-34921.687695</td>\n",
       "      <td>4.941877</td>\n",
       "      <td>66081.722767</td>\n",
       "      <td>-13048.091807</td>\n",
       "      <td>...</td>\n",
       "      <td>60575.192521</td>\n",
       "      <td>42374.513704</td>\n",
       "      <td>4.056282</td>\n",
       "      <td>-31560.842269</td>\n",
       "      <td>36234.825255</td>\n",
       "      <td>-184.415246</td>\n",
       "      <td>-141.978597</td>\n",
       "      <td>-61666.394619</td>\n",
       "      <td>13057.001319</td>\n",
       "      <td>0</td>\n",
       "    </tr>\n",
       "    <tr>\n",
       "      <th>4</th>\n",
       "      <td>2.318417</td>\n",
       "      <td>52665.281329</td>\n",
       "      <td>-47498.516869</td>\n",
       "      <td>177.796999</td>\n",
       "      <td>-164.846698</td>\n",
       "      <td>63901.656021</td>\n",
       "      <td>-57916.461362</td>\n",
       "      <td>5.084740</td>\n",
       "      <td>-8541.183540</td>\n",
       "      <td>3543.309665</td>\n",
       "      <td>...</td>\n",
       "      <td>-52711.027260</td>\n",
       "      <td>26128.828499</td>\n",
       "      <td>2.515598</td>\n",
       "      <td>18186.463747</td>\n",
       "      <td>79639.001255</td>\n",
       "      <td>133.007662</td>\n",
       "      <td>-183.966901</td>\n",
       "      <td>63306.445359</td>\n",
       "      <td>17232.196700</td>\n",
       "      <td>0</td>\n",
       "    </tr>\n",
       "  </tbody>\n",
       "</table>\n",
       "<p>5 rows × 36 columns</p>\n",
       "</div>"
      ],
      "text/plain": [
       "   UAV_1_track       UAV_1_x       UAV_1_y    UAV_1_vx    UAV_1_vy  \\\n",
       "0     0.027068 -62300.591721 -59305.682068    6.705684  247.671970   \n",
       "1     4.023101 -17220.612570  47439.586909 -167.653031 -138.169553   \n",
       "2     1.841994 -19900.350438  59030.833595  208.716697  -58.033328   \n",
       "3     3.621532 -48565.126583 -11986.418570 -113.516305 -218.076997   \n",
       "4     2.318417  52665.281329 -47498.516869  177.796999 -164.846698   \n",
       "\n",
       "   UAV_1_target_x  UAV_1_target_y  UAV_2_track       UAV_2_x       UAV_2_y  \\\n",
       "0   -59569.480482    41566.912694     1.474570 -56681.475086  -5314.787648   \n",
       "1   -98139.258988   -19248.698541     2.614451  33573.808959  51374.559396   \n",
       "2    70435.277561    33913.163359     2.492568 -53314.291038 -15227.414024   \n",
       "3   -60503.694386   -34921.687695     4.941877  66081.722767 -13048.091807   \n",
       "4    63901.656021   -57916.461362     5.084740  -8541.183540   3543.309665   \n",
       "\n",
       "   ...  UAV_4_target_x  UAV_4_target_y  UAV_5_track       UAV_5_x  \\\n",
       "0  ...   -73393.079252    42576.874951     1.607547 -80967.561432   \n",
       "1  ...    54579.884869   -35144.579226     4.315806  13285.311651   \n",
       "2  ...    82065.359024   -23468.668544     0.954796  21679.563309   \n",
       "3  ...    60575.192521    42374.513704     4.056282 -31560.842269   \n",
       "4  ...   -52711.027260    26128.828499     2.515598  18186.463747   \n",
       "\n",
       "        UAV_5_y    UAV_5_vx    UAV_5_vy  UAV_5_target_x  UAV_5_target_y  \\\n",
       "0  37684.582412  213.175442   -7.837820    41342.567045    33187.606489   \n",
       "1 -41245.545752 -196.978758  -82.489078    -2806.112817   -47984.174724   \n",
       "2 -34471.154448  208.580726  147.651921    78980.509691     6091.533217   \n",
       "3  36234.825255 -184.415246 -141.978597   -61666.394619    13057.001319   \n",
       "4  79639.001255  133.007662 -183.966901    63306.445359    17232.196700   \n",
       "\n",
       "   num_collisions  \n",
       "0               3  \n",
       "1               0  \n",
       "2               0  \n",
       "3               0  \n",
       "4               0  \n",
       "\n",
       "[5 rows x 36 columns]"
      ]
     },
     "execution_count": 32,
     "metadata": {},
     "output_type": "execute_result"
    }
   ],
   "source": [
    "#Importing neccecary libraries\n",
    "import numpy as np\n",
    "from sklearn import preprocessing ,neighbors,svm\n",
    "\n",
    "from sklearn.model_selection import train_test_split\n",
    "import pandas as pd\n",
    "import matplotlib.pyplot as plt\n",
    "\n",
    "#importing the original dataset\n",
    "\n",
    "df = pd.read_csv(\"/Users/pouya/Desktop/ML-HW1/train_set.tsv\", sep='\\t', header=0)\n",
    "df.drop('min_CPA', axis=1, inplace=True)\n",
    "df.head()"
   ]
  },
  {
   "cell_type": "code",
   "execution_count": 33,
   "id": "a6075660",
   "metadata": {},
   "outputs": [
    {
     "data": {
      "text/plain": [
       "0    538\n",
       "1    333\n",
       "2     96\n",
       "3     30\n",
       "4      3\n",
       "Name: num_collisions, dtype: int64"
      ]
     },
     "execution_count": 33,
     "metadata": {},
     "output_type": "execute_result"
    }
   ],
   "source": [
    "#Analyzing class distribution\n",
    "df['num_collisions'].value_counts()\n"
   ]
  },
  {
   "cell_type": "code",
   "execution_count": 34,
   "id": "06f0ee24",
   "metadata": {},
   "outputs": [],
   "source": [
    "#Defining inputs and output\n",
    "x = df.drop('num_collisions',axis=1)\n",
    "y = np.array(df['num_collisions'])"
   ]
  },
  {
   "cell_type": "code",
   "execution_count": 35,
   "id": "8b8b1319",
   "metadata": {},
   "outputs": [
    {
     "data": {
      "text/plain": [
       "0    538\n",
       "1    538\n",
       "2    538\n",
       "3    538\n",
       "4    538\n",
       "dtype: int64"
      ]
     },
     "execution_count": 35,
     "metadata": {},
     "output_type": "execute_result"
    }
   ],
   "source": [
    "#Balance the dataset using SMOTE oversampling methode\n",
    "\n",
    "from imblearn.under_sampling import RandomUnderSampler\n",
    "from imblearn.over_sampling import SMOTE\n",
    "over_sampling = SMOTE(sampling_strategy='not majority',k_neighbors=2)\n",
    "x_smote, y_smote = over_sampling.fit_resample(x, y)\n",
    "\n",
    "#splitting train and test set\n",
    "\n",
    "x_train, x_test, y_train, y_test = train_test_split(x_smote, y_smote, test_size=0.2,random_state=100)\n",
    "\n",
    "pd.DataFrame(y_smote).value_counts()"
   ]
  },
  {
   "cell_type": "code",
   "execution_count": 7,
   "id": "d03ac210",
   "metadata": {},
   "outputs": [
    {
     "name": "stdout",
     "output_type": "stream",
     "text": [
      "Fitting 10 folds for each of 99 candidates, totalling 990 fits\n"
     ]
    }
   ],
   "source": [
    "#Grid search to find the best parameters for KNN\n",
    "\n",
    "from sklearn.model_selection import GridSearchCV\n",
    "from sklearn.neighbors import KNeighborsClassifier\n",
    "\n",
    "clf = KNeighborsClassifier()\n",
    "k_range = list(range(1, 100))\n",
    "param_grid = dict(n_neighbors=k_range)\n",
    "  \n",
    "# defining parameter range\n",
    "grid = GridSearchCV(clf, param_grid, cv=10, scoring='accuracy', return_train_score=False,verbose=1)\n",
    "  \n",
    "# fitting the model for grid search\n",
    "grid_search=grid.fit(x_smote, y_smote)"
   ]
  },
  {
   "cell_type": "code",
   "execution_count": 8,
   "id": "e9642eb8",
   "metadata": {},
   "outputs": [
    {
     "name": "stdout",
     "output_type": "stream",
     "text": [
      "{'n_neighbors': 1}\n"
     ]
    }
   ],
   "source": [
    "print(grid_search.best_params_)"
   ]
  },
  {
   "cell_type": "code",
   "execution_count": 9,
   "id": "f5121c68",
   "metadata": {},
   "outputs": [
    {
     "name": "stdout",
     "output_type": "stream",
     "text": [
      "Accuracy for our training dataset with tuning is : 85.06%\n"
     ]
    }
   ],
   "source": [
    "accuracy = grid_search.best_score_ *100\n",
    "print(\"Accuracy for our training dataset with tuning is : {:.2f}%\".format(accuracy) )"
   ]
  },
  {
   "cell_type": "code",
   "execution_count": 10,
   "id": "40c4b1c2",
   "metadata": {},
   "outputs": [
    {
     "name": "stdout",
     "output_type": "stream",
     "text": [
      "Accuracy for our testing dataset with tuning is : 82.71%\n"
     ]
    }
   ],
   "source": [
    "#Fitting the KNN classifier\n",
    "\n",
    "from sklearn.metrics import accuracy_score, plot_confusion_matrix\n",
    "\n",
    "knn = KNeighborsClassifier(n_neighbors=1)\n",
    "\n",
    "knn.fit(x_train, y_train)\n",
    "\n",
    "y_test_hat=knn.predict(x_test) \n",
    "\n",
    "test_accuracy=accuracy_score(y_test,y_test_hat)*100\n",
    "\n",
    "print(\"Accuracy for our testing dataset with tuning is : {:.2f}%\".format(test_accuracy) )"
   ]
  },
  {
   "cell_type": "code",
   "execution_count": 11,
   "id": "9e7821b0",
   "metadata": {},
   "outputs": [
    {
     "name": "stderr",
     "output_type": "stream",
     "text": [
      "/Library/Frameworks/Python.framework/Versions/3.10/lib/python3.10/site-packages/sklearn/utils/deprecation.py:87: FutureWarning: Function plot_confusion_matrix is deprecated; Function `plot_confusion_matrix` is deprecated in 1.0 and will be removed in 1.2. Use one of the class methods: ConfusionMatrixDisplay.from_predictions or ConfusionMatrixDisplay.from_estimator.\n",
      "  warnings.warn(msg, category=FutureWarning)\n"
     ]
    },
    {
     "data": {
      "text/plain": [
       "<sklearn.metrics._plot.confusion_matrix.ConfusionMatrixDisplay at 0x16bf8ada0>"
      ]
     },
     "execution_count": 11,
     "metadata": {},
     "output_type": "execute_result"
    },
    {
     "data": {
      "image/png": "[encoded data removed]",
      "text/plain": [
       "<Figure size 432x288 with 2 Axes>"
      ]
     },
     "metadata": {
      "needs_background": "light"
     },
     "output_type": "display_data"
    }
   ],
   "source": [
    "#Vissualising confusion matrix for both train and test set\n",
    "plot_confusion_matrix(grid,x_train, y_train,values_format='d' )"
   ]
  },
  {
   "cell_type": "code",
   "execution_count": 12,
   "id": "0dbc401c",
   "metadata": {},
   "outputs": [
    {
     "name": "stderr",
     "output_type": "stream",
     "text": [
      "/Library/Frameworks/Python.framework/Versions/3.10/lib/python3.10/site-packages/sklearn/utils/deprecation.py:87: FutureWarning: Function plot_confusion_matrix is deprecated; Function `plot_confusion_matrix` is deprecated in 1.0 and will be removed in 1.2. Use one of the class methods: ConfusionMatrixDisplay.from_predictions or ConfusionMatrixDisplay.from_estimator.\n",
      "  warnings.warn(msg, category=FutureWarning)\n"
     ]
    },
    {
     "data": {
      "text/plain": [
       "<sklearn.metrics._plot.confusion_matrix.ConfusionMatrixDisplay at 0x17e5f2bc0>"
      ]
     },
     "execution_count": 12,
     "metadata": {},
     "output_type": "execute_result"
    },
    {
     "data": {
      "image/png": "[encoded data removed]",
      "text/plain": [
       "<Figure size 432x288 with 2 Axes>"
      ]
     },
     "metadata": {
      "needs_background": "light"
     },
     "output_type": "display_data"
    }
   ],
   "source": [
    "plot_confusion_matrix(grid,x_test, y_test,values_format='d' )\n"
   ]
  },
  {
   "cell_type": "code",
   "execution_count": 36,
   "id": "98f63fb1",
   "metadata": {},
   "outputs": [
    {
     "name": "stdout",
     "output_type": "stream",
     "text": [
      "Accuracy (rbf Kernel):  84.01\n",
      "F1 (rbf Kernel):  80.33\n"
     ]
    }
   ],
   "source": [
    "#Executing SVM\n",
    "\n",
    "clf = svm.SVC(kernel='rbf', degree=3, C=1)\n",
    "clf.fit(x_train ,y_train)\n",
    "\n",
    "accuracy = clf.score(x_test , y_test)\n",
    "f1 = f1_score(y_test, poly_pred, average='weighted')\n",
    "print('Accuracy (rbf Kernel): ', \"%.2f\" % (accuracy*100))\n",
    "print('F1 (rbf Kernel): ', \"%.2f\" % (f1*100))\n"
   ]
  },
  {
   "cell_type": "code",
   "execution_count": 14,
   "id": "16194a34",
   "metadata": {},
   "outputs": [],
   "source": [
    "#comparisson of different kernels \n",
    "poly = svm.SVC(kernel='poly', degree=3, C=1).fit(x_train, y_train)"
   ]
  },
  {
   "cell_type": "code",
   "execution_count": 15,
   "id": "cf3419d8",
   "metadata": {},
   "outputs": [],
   "source": [
    "poly_pred = poly.predict(x_test)"
   ]
  },
  {
   "cell_type": "code",
   "execution_count": 16,
   "id": "24bdc16c",
   "metadata": {},
   "outputs": [
    {
     "name": "stdout",
     "output_type": "stream",
     "text": [
      "Accuracy (Polynomial Kernel):  81.41\n",
      "F1 (Polynomial Kernel):  80.33\n"
     ]
    }
   ],
   "source": [
    "from sklearn.metrics import f1_score\n",
    "poly_accuracy = accuracy_score(y_test, poly_pred)\n",
    "poly_f1 = f1_score(y_test, poly_pred, average='weighted')\n",
    "print('Accuracy (Polynomial Kernel): ', \"%.2f\" % (poly_accuracy*100))\n",
    "print('F1 (Polynomial Kernel): ', \"%.2f\" % (poly_f1*100))"
   ]
  },
  {
   "cell_type": "code",
   "execution_count": 17,
   "id": "9954ddfa",
   "metadata": {},
   "outputs": [],
   "source": [
    "#Regression"
   ]
  },
  {
   "cell_type": "code",
   "execution_count": 18,
   "id": "f17eb24a",
   "metadata": {},
   "outputs": [],
   "source": [
    "#Importing neccessary packages\n",
    "import numpy as np\n",
    "import seaborn as sns\n",
    "import smogn\n",
    "import pandas as pd\n",
    "from sklearn.metrics import mean_squared_error, r2_score\n",
    "from sklearn.ensemble import GradientBoostingRegressor\n",
    "from sklearn.ensemble import RandomForestRegressor\n",
    "from sklearn.linear_model import LinearRegression\n",
    "from sklearn.ensemble import VotingRegressor\n",
    "from sklearn.preprocessing import PolynomialFeatures"
   ]
  },
  {
   "cell_type": "code",
   "execution_count": 19,
   "id": "a5387458",
   "metadata": {},
   "outputs": [
    {
     "data": {
      "text/html": [
       "<div>\n",
       "<style scoped>\n",
       "    .dataframe tbody tr th:only-of-type {\n",
       "        vertical-align: middle;\n",
       "    }\n",
       "\n",
       "    .dataframe tbody tr th {\n",
       "        vertical-align: top;\n",
       "    }\n",
       "\n",
       "    .dataframe thead th {\n",
       "        text-align: right;\n",
       "    }\n",
       "</style>\n",
       "<table border=\"1\" class=\"dataframe\">\n",
       "  <thead>\n",
       "    <tr style=\"text-align: right;\">\n",
       "      <th></th>\n",
       "      <th>UAV_1_track</th>\n",
       "      <th>UAV_1_x</th>\n",
       "      <th>UAV_1_y</th>\n",
       "      <th>UAV_1_vx</th>\n",
       "      <th>UAV_1_vy</th>\n",
       "      <th>UAV_1_target_x</th>\n",
       "      <th>UAV_1_target_y</th>\n",
       "      <th>UAV_2_track</th>\n",
       "      <th>UAV_2_x</th>\n",
       "      <th>UAV_2_y</th>\n",
       "      <th>...</th>\n",
       "      <th>UAV_4_target_x</th>\n",
       "      <th>UAV_4_target_y</th>\n",
       "      <th>UAV_5_track</th>\n",
       "      <th>UAV_5_x</th>\n",
       "      <th>UAV_5_y</th>\n",
       "      <th>UAV_5_vx</th>\n",
       "      <th>UAV_5_vy</th>\n",
       "      <th>UAV_5_target_x</th>\n",
       "      <th>UAV_5_target_y</th>\n",
       "      <th>min_CPA</th>\n",
       "    </tr>\n",
       "  </thead>\n",
       "  <tbody>\n",
       "    <tr>\n",
       "      <th>0</th>\n",
       "      <td>0.027068</td>\n",
       "      <td>-62300.591721</td>\n",
       "      <td>-59305.682068</td>\n",
       "      <td>6.705684</td>\n",
       "      <td>247.671970</td>\n",
       "      <td>-59569.480482</td>\n",
       "      <td>41566.912694</td>\n",
       "      <td>1.474570</td>\n",
       "      <td>-56681.475086</td>\n",
       "      <td>-5314.787648</td>\n",
       "      <td>...</td>\n",
       "      <td>-73393.079252</td>\n",
       "      <td>42576.874951</td>\n",
       "      <td>1.607547</td>\n",
       "      <td>-80967.561432</td>\n",
       "      <td>37684.582412</td>\n",
       "      <td>213.175442</td>\n",
       "      <td>-7.837820</td>\n",
       "      <td>41342.567045</td>\n",
       "      <td>33187.606489</td>\n",
       "      <td>1673.734894</td>\n",
       "    </tr>\n",
       "    <tr>\n",
       "      <th>1</th>\n",
       "      <td>4.023101</td>\n",
       "      <td>-17220.612570</td>\n",
       "      <td>47439.586909</td>\n",
       "      <td>-167.653031</td>\n",
       "      <td>-138.169553</td>\n",
       "      <td>-98139.258988</td>\n",
       "      <td>-19248.698541</td>\n",
       "      <td>2.614451</td>\n",
       "      <td>33573.808959</td>\n",
       "      <td>51374.559396</td>\n",
       "      <td>...</td>\n",
       "      <td>54579.884869</td>\n",
       "      <td>-35144.579226</td>\n",
       "      <td>4.315806</td>\n",
       "      <td>13285.311651</td>\n",
       "      <td>-41245.545752</td>\n",
       "      <td>-196.978758</td>\n",
       "      <td>-82.489078</td>\n",
       "      <td>-2806.112817</td>\n",
       "      <td>-47984.174724</td>\n",
       "      <td>51230.547792</td>\n",
       "    </tr>\n",
       "    <tr>\n",
       "      <th>2</th>\n",
       "      <td>1.841994</td>\n",
       "      <td>-19900.350438</td>\n",
       "      <td>59030.833595</td>\n",
       "      <td>208.716697</td>\n",
       "      <td>-58.033328</td>\n",
       "      <td>70435.277561</td>\n",
       "      <td>33913.163359</td>\n",
       "      <td>2.492568</td>\n",
       "      <td>-53314.291038</td>\n",
       "      <td>-15227.414024</td>\n",
       "      <td>...</td>\n",
       "      <td>82065.359024</td>\n",
       "      <td>-23468.668544</td>\n",
       "      <td>0.954796</td>\n",
       "      <td>21679.563309</td>\n",
       "      <td>-34471.154448</td>\n",
       "      <td>208.580726</td>\n",
       "      <td>147.651921</td>\n",
       "      <td>78980.509691</td>\n",
       "      <td>6091.533217</td>\n",
       "      <td>18668.177773</td>\n",
       "    </tr>\n",
       "    <tr>\n",
       "      <th>3</th>\n",
       "      <td>3.621532</td>\n",
       "      <td>-48565.126583</td>\n",
       "      <td>-11986.418570</td>\n",
       "      <td>-113.516305</td>\n",
       "      <td>-218.076997</td>\n",
       "      <td>-60503.694386</td>\n",
       "      <td>-34921.687695</td>\n",
       "      <td>4.941877</td>\n",
       "      <td>66081.722767</td>\n",
       "      <td>-13048.091807</td>\n",
       "      <td>...</td>\n",
       "      <td>60575.192521</td>\n",
       "      <td>42374.513704</td>\n",
       "      <td>4.056282</td>\n",
       "      <td>-31560.842269</td>\n",
       "      <td>36234.825255</td>\n",
       "      <td>-184.415246</td>\n",
       "      <td>-141.978597</td>\n",
       "      <td>-61666.394619</td>\n",
       "      <td>13057.001319</td>\n",
       "      <td>10159.624794</td>\n",
       "    </tr>\n",
       "    <tr>\n",
       "      <th>4</th>\n",
       "      <td>2.318417</td>\n",
       "      <td>52665.281329</td>\n",
       "      <td>-47498.516869</td>\n",
       "      <td>177.796999</td>\n",
       "      <td>-164.846698</td>\n",
       "      <td>63901.656021</td>\n",
       "      <td>-57916.461362</td>\n",
       "      <td>5.084740</td>\n",
       "      <td>-8541.183540</td>\n",
       "      <td>3543.309665</td>\n",
       "      <td>...</td>\n",
       "      <td>-52711.027260</td>\n",
       "      <td>26128.828499</td>\n",
       "      <td>2.515598</td>\n",
       "      <td>18186.463747</td>\n",
       "      <td>79639.001255</td>\n",
       "      <td>133.007662</td>\n",
       "      <td>-183.966901</td>\n",
       "      <td>63306.445359</td>\n",
       "      <td>17232.196700</td>\n",
       "      <td>22110.623878</td>\n",
       "    </tr>\n",
       "  </tbody>\n",
       "</table>\n",
       "<p>5 rows × 36 columns</p>\n",
       "</div>"
      ],
      "text/plain": [
       "   UAV_1_track       UAV_1_x       UAV_1_y    UAV_1_vx    UAV_1_vy  \\\n",
       "0     0.027068 -62300.591721 -59305.682068    6.705684  247.671970   \n",
       "1     4.023101 -17220.612570  47439.586909 -167.653031 -138.169553   \n",
       "2     1.841994 -19900.350438  59030.833595  208.716697  -58.033328   \n",
       "3     3.621532 -48565.126583 -11986.418570 -113.516305 -218.076997   \n",
       "4     2.318417  52665.281329 -47498.516869  177.796999 -164.846698   \n",
       "\n",
       "   UAV_1_target_x  UAV_1_target_y  UAV_2_track       UAV_2_x       UAV_2_y  \\\n",
       "0   -59569.480482    41566.912694     1.474570 -56681.475086  -5314.787648   \n",
       "1   -98139.258988   -19248.698541     2.614451  33573.808959  51374.559396   \n",
       "2    70435.277561    33913.163359     2.492568 -53314.291038 -15227.414024   \n",
       "3   -60503.694386   -34921.687695     4.941877  66081.722767 -13048.091807   \n",
       "4    63901.656021   -57916.461362     5.084740  -8541.183540   3543.309665   \n",
       "\n",
       "   ...  UAV_4_target_x  UAV_4_target_y  UAV_5_track       UAV_5_x  \\\n",
       "0  ...   -73393.079252    42576.874951     1.607547 -80967.561432   \n",
       "1  ...    54579.884869   -35144.579226     4.315806  13285.311651   \n",
       "2  ...    82065.359024   -23468.668544     0.954796  21679.563309   \n",
       "3  ...    60575.192521    42374.513704     4.056282 -31560.842269   \n",
       "4  ...   -52711.027260    26128.828499     2.515598  18186.463747   \n",
       "\n",
       "        UAV_5_y    UAV_5_vx    UAV_5_vy  UAV_5_target_x  UAV_5_target_y  \\\n",
       "0  37684.582412  213.175442   -7.837820    41342.567045    33187.606489   \n",
       "1 -41245.545752 -196.978758  -82.489078    -2806.112817   -47984.174724   \n",
       "2 -34471.154448  208.580726  147.651921    78980.509691     6091.533217   \n",
       "3  36234.825255 -184.415246 -141.978597   -61666.394619    13057.001319   \n",
       "4  79639.001255  133.007662 -183.966901    63306.445359    17232.196700   \n",
       "\n",
       "        min_CPA  \n",
       "0   1673.734894  \n",
       "1  51230.547792  \n",
       "2  18668.177773  \n",
       "3  10159.624794  \n",
       "4  22110.623878  \n",
       "\n",
       "[5 rows x 36 columns]"
      ]
     },
     "execution_count": 19,
     "metadata": {},
     "output_type": "execute_result"
    }
   ],
   "source": [
    "#Importing the dataset\n",
    "df = pd.read_csv(\"/Users/pouya/Desktop/ML-HW1/train_set.tsv\", sep='\\t', header=0)\n",
    "df.drop('num_collisions', axis=1, inplace=True)\n",
    "df.head()"
   ]
  },
  {
   "cell_type": "code",
   "execution_count": 20,
   "id": "7a5045b9",
   "metadata": {},
   "outputs": [
    {
     "name": "stderr",
     "output_type": "stream",
     "text": [
      "dist_matrix: 100%|############################| 151/151 [00:04<00:00, 34.99it/s]\n",
      "synth_matrix: 100%|##########################| 151/151 [00:00<00:00, 199.58it/s]\n",
      "r_index: 100%|#################################| 47/47 [00:00<00:00, 403.65it/s]\n"
     ]
    }
   ],
   "source": [
    "#Cleaning the dataset to have a Guassian distribution\n",
    "cleaned = smogn.smoter(data=df, y= 'min_CPA')"
   ]
  },
  {
   "cell_type": "code",
   "execution_count": 21,
   "id": "3f6cd635",
   "metadata": {},
   "outputs": [
    {
     "data": {
      "text/plain": [
       "<seaborn.axisgrid.FacetGrid at 0x17e5f1f00>"
      ]
     },
     "execution_count": 21,
     "metadata": {},
     "output_type": "execute_result"
    },
    {
     "data": {
      "image/png": "[encoded data removed]",
      "text/plain": [
       "<Figure size 360x360 with 1 Axes>"
      ]
     },
     "metadata": {
      "needs_background": "light"
     },
     "output_type": "display_data"
    },
    {
     "data": {
      "image/png": "[encoded data removed]",
      "text/plain": [
       "<Figure size 360x360 with 1 Axes>"
      ]
     },
     "metadata": {
      "needs_background": "light"
     },
     "output_type": "display_data"
    }
   ],
   "source": [
    "#Comparing the original dataset vs cleaned one\n",
    "sns.displot(cleaned.min_CPA)\n",
    "sns.displot(df.min_CPA)"
   ]
  },
  {
   "cell_type": "code",
   "execution_count": 22,
   "id": "16fde331",
   "metadata": {},
   "outputs": [],
   "source": [
    "X = cleaned.drop('min_CPA', axis=1)\n",
    "y = cleaned['min_CPA']"
   ]
  },
  {
   "cell_type": "code",
   "execution_count": 23,
   "id": "f3626189",
   "metadata": {},
   "outputs": [],
   "source": [
    "#Defining the train and test set\n",
    "from sklearn.model_selection import train_test_split\n",
    "X_train, X_test, y_train, y_test = train_test_split(X, y, test_size = 0.2, random_state = 2500)\n"
   ]
  },
  {
   "cell_type": "code",
   "execution_count": 24,
   "id": "8120b831",
   "metadata": {},
   "outputs": [
    {
     "data": {
      "text/html": [
       "<style>#sk-container-id-1 {color: black;background-color: white;}#sk-container-id-1 pre{padding: 0;}#sk-container-id-1 div.sk-toggleable {background-color: white;}#sk-container-id-1 label.sk-toggleable__label {cursor: pointer;display: block;width: 100%;margin-bottom: 0;padding: 0.3em;box-sizing: border-box;text-align: center;}#sk-container-id-1 label.sk-toggleable__label-arrow:before {content: \"▸\";float: left;margin-right: 0.25em;color: #696969;}#sk-container-id-1 label.sk-toggleable__label-arrow:hover:before {color: black;}#sk-container-id-1 div.sk-estimator:hover label.sk-toggleable__label-arrow:before {color: black;}#sk-container-id-1 div.sk-toggleable__content {max-height: 0;max-width: 0;overflow: hidden;text-align: left;background-color: #f0f8ff;}#sk-container-id-1 div.sk-toggleable__content pre {margin: 0.2em;color: black;border-radius: 0.25em;background-color: #f0f8ff;}#sk-container-id-1 input.sk-toggleable__control:checked~div.sk-toggleable__content {max-height: 200px;max-width: 100%;overflow: auto;}#sk-container-id-1 input.sk-toggleable__control:checked~label.sk-toggleable__label-arrow:before {content: \"▾\";}#sk-container-id-1 div.sk-estimator input.sk-toggleable__control:checked~label.sk-toggleable__label {background-color: #d4ebff;}#sk-container-id-1 div.sk-label input.sk-toggleable__control:checked~label.sk-toggleable__label {background-color: #d4ebff;}#sk-container-id-1 input.sk-hidden--visually {border: 0;clip: rect(1px 1px 1px 1px);clip: rect(1px, 1px, 1px, 1px);height: 1px;margin: -1px;overflow: hidden;padding: 0;position: absolute;width: 1px;}#sk-container-id-1 div.sk-estimator {font-family: monospace;background-color: #f0f8ff;border: 1px dotted black;border-radius: 0.25em;box-sizing: border-box;margin-bottom: 0.5em;}#sk-container-id-1 div.sk-estimator:hover {background-color: #d4ebff;}#sk-container-id-1 div.sk-parallel-item::after {content: \"\";width: 100%;border-bottom: 1px solid gray;flex-grow: 1;}#sk-container-id-1 div.sk-label:hover label.sk-toggleable__label {background-color: #d4ebff;}#sk-container-id-1 div.sk-serial::before {content: \"\";position: absolute;border-left: 1px solid gray;box-sizing: border-box;top: 0;bottom: 0;left: 50%;z-index: 0;}#sk-container-id-1 div.sk-serial {display: flex;flex-direction: column;align-items: center;background-color: white;padding-right: 0.2em;padding-left: 0.2em;position: relative;}#sk-container-id-1 div.sk-item {position: relative;z-index: 1;}#sk-container-id-1 div.sk-parallel {display: flex;align-items: stretch;justify-content: center;background-color: white;position: relative;}#sk-container-id-1 div.sk-item::before, #sk-container-id-1 div.sk-parallel-item::before {content: \"\";position: absolute;border-left: 1px solid gray;box-sizing: border-box;top: 0;bottom: 0;left: 50%;z-index: -1;}#sk-container-id-1 div.sk-parallel-item {display: flex;flex-direction: column;z-index: 1;position: relative;background-color: white;}#sk-container-id-1 div.sk-parallel-item:first-child::after {align-self: flex-end;width: 50%;}#sk-container-id-1 div.sk-parallel-item:last-child::after {align-self: flex-start;width: 50%;}#sk-container-id-1 div.sk-parallel-item:only-child::after {width: 0;}#sk-container-id-1 div.sk-dashed-wrapped {border: 1px dashed gray;margin: 0 0.4em 0.5em 0.4em;box-sizing: border-box;padding-bottom: 0.4em;background-color: white;}#sk-container-id-1 div.sk-label label {font-family: monospace;font-weight: bold;display: inline-block;line-height: 1.2em;}#sk-container-id-1 div.sk-label-container {text-align: center;}#sk-container-id-1 div.sk-container {/* jupyter's `normalize.less` sets `[hidden] { display: none; }` but bootstrap.min.css set `[hidden] { display: none !important; }` so we also need the `!important` here to be able to override the default hidden behavior on the sphinx rendered scikit-learn.org. See: https://github.com/scikit-learn/scikit-learn/issues/21755 */display: inline-block !important;position: relative;}#sk-container-id-1 div.sk-text-repr-fallback {display: none;}</style><div id=\"sk-container-id-1\" class=\"sk-top-container\"><div class=\"sk-text-repr-fallback\"><pre>LinearRegression()</pre><b>In a Jupyter environment, please rerun this cell to show the HTML representation or trust the notebook. <br />On GitHub, the HTML representation is unable to render, please try loading this page with nbviewer.org.</b></div><div class=\"sk-container\" hidden><div class=\"sk-item\"><div class=\"sk-estimator sk-toggleable\"><input class=\"sk-toggleable__control sk-hidden--visually\" id=\"sk-estimator-id-1\" type=\"checkbox\" checked><label for=\"sk-estimator-id-1\" class=\"sk-toggleable__label sk-toggleable__label-arrow\">LinearRegression</label><div class=\"sk-toggleable__content\"><pre>LinearRegression()</pre></div></div></div></div></div>"
      ],
      "text/plain": [
       "LinearRegression()"
      ]
     },
     "execution_count": 24,
     "metadata": {},
     "output_type": "execute_result"
    }
   ],
   "source": [
    "#Ddefining the models\n",
    "reg_rf = RandomForestRegressor(random_state=1)\n",
    "reg_lr = LinearRegression()\n",
    "\n",
    "reg_rf.fit(X_train, y_train)\n",
    "reg_lr.fit(X_train, y_train)"
   ]
  },
  {
   "cell_type": "code",
   "execution_count": 25,
   "id": "5922911b",
   "metadata": {},
   "outputs": [
    {
     "data": {
      "text/html": [
       "<style>#sk-container-id-2 {color: black;background-color: white;}#sk-container-id-2 pre{padding: 0;}#sk-container-id-2 div.sk-toggleable {background-color: white;}#sk-container-id-2 label.sk-toggleable__label {cursor: pointer;display: block;width: 100%;margin-bottom: 0;padding: 0.3em;box-sizing: border-box;text-align: center;}#sk-container-id-2 label.sk-toggleable__label-arrow:before {content: \"▸\";float: left;margin-right: 0.25em;color: #696969;}#sk-container-id-2 label.sk-toggleable__label-arrow:hover:before {color: black;}#sk-container-id-2 div.sk-estimator:hover label.sk-toggleable__label-arrow:before {color: black;}#sk-container-id-2 div.sk-toggleable__content {max-height: 0;max-width: 0;overflow: hidden;text-align: left;background-color: #f0f8ff;}#sk-container-id-2 div.sk-toggleable__content pre {margin: 0.2em;color: black;border-radius: 0.25em;background-color: #f0f8ff;}#sk-container-id-2 input.sk-toggleable__control:checked~div.sk-toggleable__content {max-height: 200px;max-width: 100%;overflow: auto;}#sk-container-id-2 input.sk-toggleable__control:checked~label.sk-toggleable__label-arrow:before {content: \"▾\";}#sk-container-id-2 div.sk-estimator input.sk-toggleable__control:checked~label.sk-toggleable__label {background-color: #d4ebff;}#sk-container-id-2 div.sk-label input.sk-toggleable__control:checked~label.sk-toggleable__label {background-color: #d4ebff;}#sk-container-id-2 input.sk-hidden--visually {border: 0;clip: rect(1px 1px 1px 1px);clip: rect(1px, 1px, 1px, 1px);height: 1px;margin: -1px;overflow: hidden;padding: 0;position: absolute;width: 1px;}#sk-container-id-2 div.sk-estimator {font-family: monospace;background-color: #f0f8ff;border: 1px dotted black;border-radius: 0.25em;box-sizing: border-box;margin-bottom: 0.5em;}#sk-container-id-2 div.sk-estimator:hover {background-color: #d4ebff;}#sk-container-id-2 div.sk-parallel-item::after {content: \"\";width: 100%;border-bottom: 1px solid gray;flex-grow: 1;}#sk-container-id-2 div.sk-label:hover label.sk-toggleable__label {background-color: #d4ebff;}#sk-container-id-2 div.sk-serial::before {content: \"\";position: absolute;border-left: 1px solid gray;box-sizing: border-box;top: 0;bottom: 0;left: 50%;z-index: 0;}#sk-container-id-2 div.sk-serial {display: flex;flex-direction: column;align-items: center;background-color: white;padding-right: 0.2em;padding-left: 0.2em;position: relative;}#sk-container-id-2 div.sk-item {position: relative;z-index: 1;}#sk-container-id-2 div.sk-parallel {display: flex;align-items: stretch;justify-content: center;background-color: white;position: relative;}#sk-container-id-2 div.sk-item::before, #sk-container-id-2 div.sk-parallel-item::before {content: \"\";position: absolute;border-left: 1px solid gray;box-sizing: border-box;top: 0;bottom: 0;left: 50%;z-index: -1;}#sk-container-id-2 div.sk-parallel-item {display: flex;flex-direction: column;z-index: 1;position: relative;background-color: white;}#sk-container-id-2 div.sk-parallel-item:first-child::after {align-self: flex-end;width: 50%;}#sk-container-id-2 div.sk-parallel-item:last-child::after {align-self: flex-start;width: 50%;}#sk-container-id-2 div.sk-parallel-item:only-child::after {width: 0;}#sk-container-id-2 div.sk-dashed-wrapped {border: 1px dashed gray;margin: 0 0.4em 0.5em 0.4em;box-sizing: border-box;padding-bottom: 0.4em;background-color: white;}#sk-container-id-2 div.sk-label label {font-family: monospace;font-weight: bold;display: inline-block;line-height: 1.2em;}#sk-container-id-2 div.sk-label-container {text-align: center;}#sk-container-id-2 div.sk-container {/* jupyter's `normalize.less` sets `[hidden] { display: none; }` but bootstrap.min.css set `[hidden] { display: none !important; }` so we also need the `!important` here to be able to override the default hidden behavior on the sphinx rendered scikit-learn.org. See: https://github.com/scikit-learn/scikit-learn/issues/21755 */display: inline-block !important;position: relative;}#sk-container-id-2 div.sk-text-repr-fallback {display: none;}</style><div id=\"sk-container-id-2\" class=\"sk-top-container\"><div class=\"sk-text-repr-fallback\"><pre>VotingRegressor(estimators=[(&#x27;rf&#x27;, RandomForestRegressor(random_state=1)),\n",
       "                            (&#x27;lr&#x27;, LinearRegression())])</pre><b>In a Jupyter environment, please rerun this cell to show the HTML representation or trust the notebook. <br />On GitHub, the HTML representation is unable to render, please try loading this page with nbviewer.org.</b></div><div class=\"sk-container\" hidden><div class=\"sk-item sk-dashed-wrapped\"><div class=\"sk-label-container\"><div class=\"sk-label sk-toggleable\"><input class=\"sk-toggleable__control sk-hidden--visually\" id=\"sk-estimator-id-2\" type=\"checkbox\" ><label for=\"sk-estimator-id-2\" class=\"sk-toggleable__label sk-toggleable__label-arrow\">VotingRegressor</label><div class=\"sk-toggleable__content\"><pre>VotingRegressor(estimators=[(&#x27;rf&#x27;, RandomForestRegressor(random_state=1)),\n",
       "                            (&#x27;lr&#x27;, LinearRegression())])</pre></div></div></div><div class=\"sk-parallel\"><div class=\"sk-parallel-item\"><div class=\"sk-item\"><div class=\"sk-label-container\"><div class=\"sk-label sk-toggleable\"><label>rf</label></div></div><div class=\"sk-serial\"><div class=\"sk-item\"><div class=\"sk-estimator sk-toggleable\"><input class=\"sk-toggleable__control sk-hidden--visually\" id=\"sk-estimator-id-3\" type=\"checkbox\" ><label for=\"sk-estimator-id-3\" class=\"sk-toggleable__label sk-toggleable__label-arrow\">RandomForestRegressor</label><div class=\"sk-toggleable__content\"><pre>RandomForestRegressor(random_state=1)</pre></div></div></div></div></div></div><div class=\"sk-parallel-item\"><div class=\"sk-item\"><div class=\"sk-label-container\"><div class=\"sk-label sk-toggleable\"><label>lr</label></div></div><div class=\"sk-serial\"><div class=\"sk-item\"><div class=\"sk-estimator sk-toggleable\"><input class=\"sk-toggleable__control sk-hidden--visually\" id=\"sk-estimator-id-4\" type=\"checkbox\" ><label for=\"sk-estimator-id-4\" class=\"sk-toggleable__label sk-toggleable__label-arrow\">LinearRegression</label><div class=\"sk-toggleable__content\"><pre>LinearRegression()</pre></div></div></div></div></div></div></div></div></div></div>"
      ],
      "text/plain": [
       "VotingRegressor(estimators=[('rf', RandomForestRegressor(random_state=1)),\n",
       "                            ('lr', LinearRegression())])"
      ]
     },
     "execution_count": 25,
     "metadata": {},
     "output_type": "execute_result"
    }
   ],
   "source": [
    "#fitting models\n",
    "reg_v = VotingRegressor([(\"rf\", reg_rf), (\"lr\", reg_lr)])\n",
    "reg_v.fit(X_train, y_train)"
   ]
  },
  {
   "cell_type": "code",
   "execution_count": 26,
   "id": "f1ffd901",
   "metadata": {},
   "outputs": [
    {
     "data": {
      "text/html": [
       "<style>#sk-container-id-3 {color: black;background-color: white;}#sk-container-id-3 pre{padding: 0;}#sk-container-id-3 div.sk-toggleable {background-color: white;}#sk-container-id-3 label.sk-toggleable__label {cursor: pointer;display: block;width: 100%;margin-bottom: 0;padding: 0.3em;box-sizing: border-box;text-align: center;}#sk-container-id-3 label.sk-toggleable__label-arrow:before {content: \"▸\";float: left;margin-right: 0.25em;color: #696969;}#sk-container-id-3 label.sk-toggleable__label-arrow:hover:before {color: black;}#sk-container-id-3 div.sk-estimator:hover label.sk-toggleable__label-arrow:before {color: black;}#sk-container-id-3 div.sk-toggleable__content {max-height: 0;max-width: 0;overflow: hidden;text-align: left;background-color: #f0f8ff;}#sk-container-id-3 div.sk-toggleable__content pre {margin: 0.2em;color: black;border-radius: 0.25em;background-color: #f0f8ff;}#sk-container-id-3 input.sk-toggleable__control:checked~div.sk-toggleable__content {max-height: 200px;max-width: 100%;overflow: auto;}#sk-container-id-3 input.sk-toggleable__control:checked~label.sk-toggleable__label-arrow:before {content: \"▾\";}#sk-container-id-3 div.sk-estimator input.sk-toggleable__control:checked~label.sk-toggleable__label {background-color: #d4ebff;}#sk-container-id-3 div.sk-label input.sk-toggleable__control:checked~label.sk-toggleable__label {background-color: #d4ebff;}#sk-container-id-3 input.sk-hidden--visually {border: 0;clip: rect(1px 1px 1px 1px);clip: rect(1px, 1px, 1px, 1px);height: 1px;margin: -1px;overflow: hidden;padding: 0;position: absolute;width: 1px;}#sk-container-id-3 div.sk-estimator {font-family: monospace;background-color: #f0f8ff;border: 1px dotted black;border-radius: 0.25em;box-sizing: border-box;margin-bottom: 0.5em;}#sk-container-id-3 div.sk-estimator:hover {background-color: #d4ebff;}#sk-container-id-3 div.sk-parallel-item::after {content: \"\";width: 100%;border-bottom: 1px solid gray;flex-grow: 1;}#sk-container-id-3 div.sk-label:hover label.sk-toggleable__label {background-color: #d4ebff;}#sk-container-id-3 div.sk-serial::before {content: \"\";position: absolute;border-left: 1px solid gray;box-sizing: border-box;top: 0;bottom: 0;left: 50%;z-index: 0;}#sk-container-id-3 div.sk-serial {display: flex;flex-direction: column;align-items: center;background-color: white;padding-right: 0.2em;padding-left: 0.2em;position: relative;}#sk-container-id-3 div.sk-item {position: relative;z-index: 1;}#sk-container-id-3 div.sk-parallel {display: flex;align-items: stretch;justify-content: center;background-color: white;position: relative;}#sk-container-id-3 div.sk-item::before, #sk-container-id-3 div.sk-parallel-item::before {content: \"\";position: absolute;border-left: 1px solid gray;box-sizing: border-box;top: 0;bottom: 0;left: 50%;z-index: -1;}#sk-container-id-3 div.sk-parallel-item {display: flex;flex-direction: column;z-index: 1;position: relative;background-color: white;}#sk-container-id-3 div.sk-parallel-item:first-child::after {align-self: flex-end;width: 50%;}#sk-container-id-3 div.sk-parallel-item:last-child::after {align-self: flex-start;width: 50%;}#sk-container-id-3 div.sk-parallel-item:only-child::after {width: 0;}#sk-container-id-3 div.sk-dashed-wrapped {border: 1px dashed gray;margin: 0 0.4em 0.5em 0.4em;box-sizing: border-box;padding-bottom: 0.4em;background-color: white;}#sk-container-id-3 div.sk-label label {font-family: monospace;font-weight: bold;display: inline-block;line-height: 1.2em;}#sk-container-id-3 div.sk-label-container {text-align: center;}#sk-container-id-3 div.sk-container {/* jupyter's `normalize.less` sets `[hidden] { display: none; }` but bootstrap.min.css set `[hidden] { display: none !important; }` so we also need the `!important` here to be able to override the default hidden behavior on the sphinx rendered scikit-learn.org. See: https://github.com/scikit-learn/scikit-learn/issues/21755 */display: inline-block !important;position: relative;}#sk-container-id-3 div.sk-text-repr-fallback {display: none;}</style><div id=\"sk-container-id-3\" class=\"sk-top-container\"><div class=\"sk-text-repr-fallback\"><pre>LinearRegression()</pre><b>In a Jupyter environment, please rerun this cell to show the HTML representation or trust the notebook. <br />On GitHub, the HTML representation is unable to render, please try loading this page with nbviewer.org.</b></div><div class=\"sk-container\" hidden><div class=\"sk-item\"><div class=\"sk-estimator sk-toggleable\"><input class=\"sk-toggleable__control sk-hidden--visually\" id=\"sk-estimator-id-5\" type=\"checkbox\" checked><label for=\"sk-estimator-id-5\" class=\"sk-toggleable__label sk-toggleable__label-arrow\">LinearRegression</label><div class=\"sk-toggleable__content\"><pre>LinearRegression()</pre></div></div></div></div></div>"
      ],
      "text/plain": [
       "LinearRegression()"
      ]
     },
     "execution_count": 26,
     "metadata": {},
     "output_type": "execute_result"
    }
   ],
   "source": [
    "#Fitting the polynominal regression as a third model\n",
    "poly = PolynomialFeatures(degree = 2)\n",
    "X_poly = poly.fit_transform(X_train)\n",
    "\n",
    "poly.fit(X_poly, y_train)\n",
    "reg_poly = LinearRegression()\n",
    "reg_poly.fit(X_poly, y_train)"
   ]
  },
  {
   "cell_type": "code",
   "execution_count": 27,
   "id": "8568034d",
   "metadata": {},
   "outputs": [],
   "source": [
    "#Defining the test sets\n",
    "pred_rf = reg_rf.predict(X_test)\n",
    "pred_lr = reg_lr.predict(X_test)\n",
    "pred_v = reg_v.predict(X_test)\n",
    "pred_poly = reg_poly.predict(poly.fit_transform(X_test))"
   ]
  },
  {
   "cell_type": "code",
   "execution_count": 28,
   "id": "288690e2",
   "metadata": {},
   "outputs": [
    {
     "name": "stdout",
     "output_type": "stream",
     "text": [
      "RF Mean squared error: 106449515.89\n",
      "RF Regression score: 0.41 \n",
      "\n",
      "LR Mean squared error: 139215614.72\n",
      "LR Regression score: 0.23 \n",
      "\n",
      "V Mean squared error: 115438543.74\n",
      "V Regression score: 0.36 \n",
      "\n",
      "poly Mean squared error: 115438543.74\n",
      "poly Regression score: 0.36\n"
     ]
    }
   ],
   "source": [
    "#Visualising the results\n",
    "\n",
    "print(\"RF Mean squared error: %.2f\" % mean_squared_error(y_test, pred_rf))\n",
    "print(\"RF Regression score: %.2f \\n\" % r2_score(y_test, pred_rf))\n",
    "\n",
    "print(\"LR Mean squared error: %.2f\" % mean_squared_error(y_test, pred_lr))\n",
    "print(\"LR Regression score: %.2f \\n\" % r2_score(y_test, pred_lr))\n",
    "\n",
    "print(\"V Mean squared error: %.2f\" % mean_squared_error(y_test, pred_v))\n",
    "print(\"V Regression score: %.2f \\n\" % r2_score(y_test, pred_v))\n",
    "\n",
    "print(\"poly Mean squared error: %.2f\" % mean_squared_error(y_test, pred_v))\n",
    "print(\"poly Regression score: %.2f\" % r2_score(y_test, pred_v))"
   ]
  },
  {
   "cell_type": "code",
   "execution_count": 29,
   "id": "45fa1175",
   "metadata": {},
   "outputs": [
    {
     "data": {
      "image/png": "[encoded data removed]",
      "text/plain": [
       "<Figure size 432x288 with 1 Axes>"
      ]
     },
     "metadata": {
      "needs_background": "light"
     },
     "output_type": "display_data"
    }
   ],
   "source": [
    "#Demonstrating the results in a figure\n",
    "plt.figure()\n",
    "\n",
    "plt.plot(pred_rf, \"b^\", label=\"RandomForestRegressor\")\n",
    "plt.plot(pred_lr, \"ys\", label=\"LinearRegression\")\n",
    "plt.plot(pred_v, \"r*\", ms=10, label=\"VotingRegressor\")\n",
    "plt.plot(pred_poly, \"b*\", ms=10, label=\"PolyRegressor\")\n",
    "\n",
    "plt.tick_params(axis=\"x\", which=\"both\", bottom=False, top=False, labelbottom=False)\n",
    "plt.ylabel(\"predicted\")\n",
    "plt.xlabel(\"training samples\")\n",
    "plt.legend(loc=\"best\")\n",
    "plt.title(\"Regressor predictions and their average\")\n",
    "\n",
    "plt.show()"
   ]
  },
  {
   "cell_type": "code",
   "execution_count": null,
   "id": "625eb65b",
   "metadata": {},
   "outputs": [],
   "source": []
  }
 ],
 "metadata": {
  "kernelspec": {
   "display_name": "Python 3 (ipykernel)",
   "language": "python",
   "name": "python3"
  },
  "language_info": {
   "codemirror_mode": {
    "name": "ipython",
    "version": 3
   },
   "file_extension": ".py",
   "mimetype": "text/x-python",
   "name": "python",
   "nbconvert_exporter": "python",
   "pygments_lexer": "ipython3",
   "version": "3.10.0"
  }
 },
 "nbformat": 4,
 "nbformat_minor": 5
}
